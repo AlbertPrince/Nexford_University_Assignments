{
 "cells": [
  {
   "cell_type": "code",
   "execution_count": null,
   "metadata": {},
   "outputs": [],
   "source": []
  },
  {
   "cell_type": "code",
   "execution_count": 21,
   "metadata": {
    "scrolled": true
   },
   "outputs": [
    {
     "name": "stdout",
     "output_type": "stream",
     "text": [
      "<class 'pandas.core.frame.DataFrame'>\n",
      "RangeIndex: 312882 entries, 0 to 312881\n",
      "Data columns (total 9 columns):\n",
      "EmployeeName        312882 non-null object\n",
      "JobTitle            312882 non-null object\n",
      "BasePay             312882 non-null object\n",
      "OvertimePay         312882 non-null object\n",
      "OtherPay            312882 non-null object\n",
      "Benefits            312882 non-null object\n",
      "TotalPay            312882 non-null float64\n",
      "TotalPayBenefits    312882 non-null float64\n",
      "Year                312882 non-null int64\n",
      "dtypes: float64(2), int64(1), object(6)\n",
      "memory usage: 21.5+ MB\n"
     ]
    }
   ],
   "source": [
    "df.info()"
   ]
  },
  {
   "cell_type": "code",
   "execution_count": 20,
   "metadata": {},
   "outputs": [],
   "source": [
    "def get_employee_details(emp_name):\n",
    "    try:\n",
    "        employee = df[df['Name'].str.lower() == emp_name.lower()]\n",
    "        if employee.empty:\n",
    "            raise ValueError(\"Employee not found.\")\n",
    "        return employee\n",
    "    except Exception as e:\n",
    "        return f\"Error: {str(e)}\""
   ]
  },
  {
   "cell_type": "code",
   "execution_count": 13,
   "metadata": {},
   "outputs": [
    {
     "data": {
      "text/plain": [
       "\"Error: 'Name'\""
      ]
     },
     "execution_count": 13,
     "metadata": {},
     "output_type": "execute_result"
    }
   ],
   "source": [
    "get_employee_details(\"NATHANIEL FORD\")"
   ]
  },
  {
   "cell_type": "code",
   "execution_count": 22,
   "metadata": {},
   "outputs": [
    {
     "name": "stdout",
     "output_type": "stream",
     "text": [
      "<class 'pandas.core.frame.DataFrame'>\n",
      "RangeIndex: 312882 entries, 0 to 312881\n",
      "Data columns (total 9 columns):\n",
      "EmployeeName        312882 non-null object\n",
      "JobTitle            312882 non-null object\n",
      "BasePay             312882 non-null object\n",
      "OvertimePay         312882 non-null object\n",
      "OtherPay            312882 non-null object\n",
      "Benefits            312882 non-null object\n",
      "TotalPay            312882 non-null float64\n",
      "TotalPayBenefits    312882 non-null float64\n",
      "Year                312882 non-null int64\n",
      "dtypes: float64(2), int64(1), object(6)\n",
      "memory usage: 21.5+ MB\n"
     ]
    }
   ],
   "source": [
    "df.info()"
   ]
  },
  {
   "cell_type": "code",
   "execution_count": null,
   "metadata": {},
   "outputs": [],
   "source": []
  }
 ],
 "metadata": {
  "kernelspec": {
   "display_name": "Python 3",
   "language": "python",
   "name": "python3"
  },
  "language_info": {
   "codemirror_mode": {
    "name": "ipython",
    "version": 3
   },
   "file_extension": ".py",
   "mimetype": "text/x-python",
   "name": "python",
   "nbconvert_exporter": "python",
   "pygments_lexer": "ipython3",
   "version": "3.7.4"
  }
 },
 "nbformat": 4,
 "nbformat_minor": 2
}
