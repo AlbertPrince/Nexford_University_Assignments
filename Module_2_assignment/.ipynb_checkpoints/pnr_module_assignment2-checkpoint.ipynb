{
 "cells": [
  {
   "cell_type": "code",
   "execution_count": 13,
   "metadata": {},
   "outputs": [
    {
     "name": "stdout",
     "output_type": "stream",
     "text": [
      "        EmployeeName                                        JobTitle BasePay  \\\n",
      "0     NATHANIEL FORD  GENERAL MANAGER-METROPOLITAN TRANSIT AUTHORITY  167411   \n",
      "1       GARY JIMENEZ                 CAPTAIN III (POLICE DEPARTMENT)  155966   \n",
      "2     ALBERT PARDINI                 CAPTAIN III (POLICE DEPARTMENT)  212739   \n",
      "3  CHRISTOPHER CHONG            WIRE ROPE CABLE MAINTENANCE MECHANIC   77916   \n",
      "4    PATRICK GARDNER    DEPUTY CHIEF OF DEPARTMENT,(FIRE DEPARTMENT)  134402   \n",
      "\n",
      "  OvertimePay OtherPay      Benefits   TotalPay  TotalPayBenefits  Year  \n",
      "0           0   400184  Not Provided  567595.43         567595.43  2011  \n",
      "1      245132   137811  Not Provided  538909.28         538909.28  2011  \n",
      "2      106088  16452.6  Not Provided  335279.91         335279.91  2011  \n",
      "3     56120.7   198307  Not Provided  332343.61         332343.61  2011  \n",
      "4        9737   182235  Not Provided  326373.19         326373.19  2011  \n"
     ]
    }
   ],
   "source": [
    "import pandas as pd\n",
    "\n",
    "df = pd.read_csv('Total.csv')\n",
    "print(df.head())"
   ]
  },
  {
   "cell_type": "code",
   "execution_count": 14,
   "metadata": {},
   "outputs": [],
   "source": [
    "def get_employee_details(emp_name):\n",
    "    try:\n",
    "        employee = df[df['EmployeeName'].str.lower() == emp_name.lower()]\n",
    "        if employee.empty:\n",
    "            raise ValueError(\"Employee not found.\")\n",
    "        return employee\n",
    "    except Exception as e:\n",
    "        return f\"Error: {str(e)}\""
   ]
  },
  {
   "cell_type": "code",
   "execution_count": 6,
   "metadata": {
    "scrolled": true
   },
   "outputs": [
    {
     "data": {
      "text/html": [
       "<div>\n",
       "<style scoped>\n",
       "    .dataframe tbody tr th:only-of-type {\n",
       "        vertical-align: middle;\n",
       "    }\n",
       "\n",
       "    .dataframe tbody tr th {\n",
       "        vertical-align: top;\n",
       "    }\n",
       "\n",
       "    .dataframe thead th {\n",
       "        text-align: right;\n",
       "    }\n",
       "</style>\n",
       "<table border=\"1\" class=\"dataframe\">\n",
       "  <thead>\n",
       "    <tr style=\"text-align: right;\">\n",
       "      <th></th>\n",
       "      <th>EmployeeName</th>\n",
       "      <th>JobTitle</th>\n",
       "      <th>BasePay</th>\n",
       "      <th>OvertimePay</th>\n",
       "      <th>OtherPay</th>\n",
       "      <th>Benefits</th>\n",
       "      <th>TotalPay</th>\n",
       "      <th>TotalPayBenefits</th>\n",
       "      <th>Year</th>\n",
       "    </tr>\n",
       "  </thead>\n",
       "  <tbody>\n",
       "    <tr>\n",
       "      <td>1</td>\n",
       "      <td>GARY JIMENEZ</td>\n",
       "      <td>CAPTAIN III (POLICE DEPARTMENT)</td>\n",
       "      <td>155966</td>\n",
       "      <td>245132</td>\n",
       "      <td>137811</td>\n",
       "      <td>Not Provided</td>\n",
       "      <td>538909.28</td>\n",
       "      <td>538909.28</td>\n",
       "      <td>2011</td>\n",
       "    </tr>\n",
       "  </tbody>\n",
       "</table>\n",
       "</div>"
      ],
      "text/plain": [
       "   EmployeeName                         JobTitle BasePay OvertimePay OtherPay  \\\n",
       "1  GARY JIMENEZ  CAPTAIN III (POLICE DEPARTMENT)  155966      245132   137811   \n",
       "\n",
       "       Benefits   TotalPay  TotalPayBenefits  Year  \n",
       "1  Not Provided  538909.28         538909.28  2011  "
      ]
     },
     "execution_count": 6,
     "metadata": {},
     "output_type": "execute_result"
    }
   ],
   "source": [
    "get_employee_details(\"Gary Jimenez\")"
   ]
  },
  {
   "cell_type": "code",
   "execution_count": 12,
   "metadata": {
    "scrolled": true
   },
   "outputs": [
    {
     "name": "stdout",
     "output_type": "stream",
     "text": [
      "[{'BasePay': 167411.18, 'OvertimePay': 0.0, 'OtherPay': 400184.25, 'TotalPay': 567595.43, 'TotalPayBenefits': 567595.43}, {'BasePay': 155966.02, 'OvertimePay': 245131.88, 'OtherPay': 137811.38, 'TotalPay': 538909.28, 'TotalPayBenefits': 538909.28}, {'BasePay': 212739.13, 'OvertimePay': 106088.18, 'OtherPay': 16452.6, 'TotalPay': 335279.91, 'TotalPayBenefits': 335279.91}, {'BasePay': 77916.0, 'OvertimePay': 56120.71, 'OtherPay': 198306.9, 'TotalPay': 332343.61, 'TotalPayBenefits': 332343.61}, {'BasePay': 134401.6, 'OvertimePay': 9737.0, 'OtherPay': 182234.59, 'TotalPay': 326373.19, 'TotalPayBenefits': 326373.19}, {'BasePay': 118602.0, 'OvertimePay': 8601.0, 'OtherPay': 189082.74, 'TotalPay': 316285.74, 'TotalPayBenefits': 316285.74}, {'BasePay': 92492.01, 'OvertimePay': 89062.9, 'OtherPay': 134426.14, 'TotalPay': 315981.05, 'TotalPayBenefits': 315981.05}, {'BasePay': 256576.96, 'OvertimePay': 0.0, 'OtherPay': 51322.5, 'TotalPay': 307899.46, 'TotalPayBenefits': 307899.46}, {'BasePay': 176932.64, 'OvertimePay': 86362.68, 'OtherPay': 40132.23, 'TotalPay': 303427.55, 'TotalPayBenefits': 303427.55}, {'BasePay': 285262.0, 'OvertimePay': 0.0, 'OtherPay': 17115.73, 'TotalPay': 302377.73, 'TotalPayBenefits': 302377.73}]\n"
     ]
    }
   ],
   "source": [
    "df2 = pd.read_csv('Total.csv', usecols=['BasePay', 'OvertimePay', 'OtherPay', 'TotalPay', 'TotalPayBenefits'])\n",
    "\n",
    "data_dict = df2.to_dict(orient='records')\n",
    "\n",
    "print(data_dict[:10])"
   ]
  },
  {
   "cell_type": "code",
   "execution_count": 25,
   "metadata": {},
   "outputs": [],
   "source": [
    "import pandas as pd\n",
    "import os\n",
    "import zipfile\n",
    "\n",
    "df = pd.read_csv(\"Total.csv\", low_memory=False)\n",
    "\n",
    "def export_employee_to_csv(name):\n",
    "    try:\n",
    "        employee = df[df['EmployeeName'].str.lower() == name.lower()]\n",
    "        \n",
    "        if employee.empty:\n",
    "            raise ValueError(\"Employee not found.\")\n",
    "        \n",
    "        filename = f\"{name.replace(' ', '_').upper()}_employee_details.csv\"\n",
    "        \n",
    "        employee.to_csv(filename, index=False)\n",
    "        \n",
    "        with zipfile.ZipFile(\"Employee_Profile.zip\", 'w', zipfile.ZIP_DEFLATED) as zipf:\n",
    "            zipf.write(filename, arcname=filename)\n",
    "        \n",
    "        os.remove(filename)\n",
    "\n",
    "        print(f\"{name}'s details zipped as Employee_Profile.zip\")\n",
    "\n",
    "    except Exception as e:\n",
    "        print(f\"Error: {str(e)}\")\n"
   ]
  },
  {
   "cell_type": "code",
   "execution_count": 26,
   "metadata": {},
   "outputs": [
    {
     "name": "stdout",
     "output_type": "stream",
     "text": [
      "✅ Patrick Gardner's details zipped as Employee_Profile.zip\n"
     ]
    }
   ],
   "source": [
    "export_employee_to_csv(\"Patrick Gardner\")"
   ]
  },
  {
   "cell_type": "code",
   "execution_count": 21,
   "metadata": {},
   "outputs": [],
   "source": [
    "import pandas as pd\n",
    "import os\n",
    "import zipfile\n",
    "\n",
    "def export_zipped_employee_profile(name):\n",
    "    try:\n",
    "        employee_data = get_employee_details(name)\n",
    "        \n",
    "        if isinstance(employee_data, str):\n",
    "            raise ValueError(employee_data) \n",
    "        \n",
    "        filename = f\"{name.replace(' ', '_').upper()}_employee_details.csv\"\n",
    "        \n",
    "        employee_data.to_csv(filename, index=False)\n",
    "        \n",
    "        with zipfile.ZipFile(\"Employee_Profile.zip\", 'w', zipfile.ZIP_DEFLATED) as zipf:\n",
    "            zipf.write(filename, arcname=filename)\n",
    "        \n",
    "        os.remove(filename)\n",
    "\n",
    "        print(f\"Exported and zipped {name}'s details successfully.\")\n",
    "    \n",
    "    except Exception as e:\n",
    "        print(f\"Error: {str(e)}\")\n"
   ]
  },
  {
   "cell_type": "code",
   "execution_count": 22,
   "metadata": {},
   "outputs": [
    {
     "name": "stdout",
     "output_type": "stream",
     "text": [
      "✅ Exported and zipped Gary Jimenez's details successfully.\n"
     ]
    }
   ],
   "source": [
    "export_zipped_employee_profile(\"Gary Jimenez\")"
   ]
  },
  {
   "cell_type": "code",
   "execution_count": null,
   "metadata": {},
   "outputs": [],
   "source": []
  }
 ],
 "metadata": {
  "kernelspec": {
   "display_name": "Python 3",
   "language": "python",
   "name": "python3"
  },
  "language_info": {
   "codemirror_mode": {
    "name": "ipython",
    "version": 3
   },
   "file_extension": ".py",
   "mimetype": "text/x-python",
   "name": "python",
   "nbconvert_exporter": "python",
   "pygments_lexer": "ipython3",
   "version": "3.7.4"
  }
 },
 "nbformat": 4,
 "nbformat_minor": 2
}
